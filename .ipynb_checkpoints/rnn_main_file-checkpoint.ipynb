{
 "cells": [
  {
   "cell_type": "markdown",
   "id": "015e6d02-94fe-45e8-8bf2-4b7e46f6bbab",
   "metadata": {
    "editable": true,
    "slideshow": {
     "slide_type": ""
    },
    "tags": []
   },
   "source": [
    " # Recurrent Neural Network Implementation"
   ]
  },
  {
   "cell_type": "code",
   "execution_count": 1,
   "id": "d31949cf-facb-4e30-a81d-0ffc03a464eb",
   "metadata": {
    "editable": true,
    "slideshow": {
     "slide_type": ""
    },
    "tags": []
   },
   "outputs": [],
   "source": [
    "## Imports\n",
    "\n",
    "import numpy as np  \n",
    "import matplotlib.pyplot as plt \n",
    "import pandas as pd\n",
    "import tensorflow as tf \n",
    "import os\n",
    "import seaborn as sns\n",
    "from sklearn.model_selection import train_test_split\n",
    "import tensorflow as tf # tensorflow\n",
    "from tensorflow.keras.models import Sequential\n",
    "from tensorflow.keras.layers import Dense, Conv2D, MaxPool2D, Flatten, Dropout, BatchNormalization, MaxPooling2D,Activation,AveragePooling2D\n",
    "from tensorflow.keras.callbacks import EarlyStopping\n",
    "from tensorflow.keras.preprocessing.image import ImageDataGenerator\n",
    "\n",
    "from sklearn.metrics import ConfusionMatrixDisplay\n",
    "from sklearn.metrics import classification_report, confusion_matrix"
   ]
  },
  {
   "cell_type": "markdown",
   "id": "9acb3ce9-015d-4c28-8651-34dddcec449c",
   "metadata": {
    "editable": true,
    "slideshow": {
     "slide_type": ""
    },
    "tags": []
   },
   "source": [
    "# Loading Data"
   ]
  },
  {
   "cell_type": "code",
   "execution_count": 2,
   "id": "bce73515-e503-450e-9564-68467ebcde38",
   "metadata": {
    "editable": true,
    "slideshow": {
     "slide_type": ""
    },
    "tags": []
   },
   "outputs": [
    {
     "name": "stdout",
     "output_type": "stream",
     "text": [
      "17485 files loaded.\n"
     ]
    }
   ],
   "source": [
    "## Data Load\n",
    "\n",
    "CLASS = {'Cars':0, 'Drones': 1, 'People':2}\n",
    "\n",
    "list_of_file = []   # filename/details\n",
    "list_of_img = []    # x\n",
    "list_of_classi = [] # y\n",
    "\n",
    "for root, dirs, files in os.walk(\".\", topdown=False):\n",
    "    for file in files:\n",
    "        if file.endswith('.csv'):\n",
    "            tmp = root.strip().split('\\\\')\n",
    "            if tmp[-2] in CLASS:\n",
    "                list_of_classi.append(CLASS[tmp[-2]])\n",
    "                list_of_file.append(os.path.join('\\\\'.join(tmp[-3:]),file))\n",
    "                df = pd.read_csv(os.path.join(root,file), sep=',',header=None)\n",
    "                list_of_img.append(df.values)\n",
    "\n",
    "x = np.array(list_of_img)\n",
    "y = np.array(list_of_classi)\n",
    "d = np.array(list_of_file)\n",
    "                \n",
    "print(len(list_of_file), 'files loaded.')"
   ]
  },
  {
   "cell_type": "code",
   "execution_count": null,
   "id": "c42e37a1-5ad9-40b8-87e4-5bfb3f590e99",
   "metadata": {},
   "outputs": [],
   "source": []
  }
 ],
 "metadata": {
  "kernelspec": {
   "display_name": "Python 3 (ipykernel)",
   "language": "python",
   "name": "python3"
  },
  "language_info": {
   "codemirror_mode": {
    "name": "ipython",
    "version": 3
   },
   "file_extension": ".py",
   "mimetype": "text/x-python",
   "name": "python",
   "nbconvert_exporter": "python",
   "pygments_lexer": "ipython3",
   "version": "3.9.18"
  }
 },
 "nbformat": 4,
 "nbformat_minor": 5
}
